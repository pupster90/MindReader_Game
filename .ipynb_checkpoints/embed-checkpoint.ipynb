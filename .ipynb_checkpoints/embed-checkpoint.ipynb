{
 "cells": [
  {
   "cell_type": "markdown",
   "metadata": {},
   "source": [
    "<font size=7>MindReader Source Code</font>"
   ]
  },
  {
   "cell_type": "markdown",
   "metadata": {},
   "source": [
    "Here is where we write the code that build the mindreader game. \n"
   ]
  },
  {
   "cell_type": "markdown",
   "metadata": {},
   "source": [
    "# Game Idea\n"
   ]
  },
  {
   "cell_type": "markdown",
   "metadata": {},
   "source": [
    "This is the last video in a 4 video playlist that takes you from <font color=\"blue\">zero coding knowledge to building a video game!</font> I also introduce how you can use **machine learning** in games. Watching all 4 videos takes about **1 hour**.\n"
   ]
  },
  {
   "cell_type": "markdown",
   "metadata": {},
   "source": [
    "\n",
    "**MindReader** is basically just a game of <font color=\"blue\">binary rock-paper-scissors</font> against <font color=\"red\">a bot</font>. You choose a number **1 or 0**. The <font color=\"red\">bot tries to guess youre number</font> using some basic **machine learning**. If it's right it gets a point, otherwise you get a point. The first to **50** <font color=\"green\">wins!</font> "
   ]
  },
  {
   "cell_type": "markdown",
   "metadata": {},
   "source": [
    "# Import Tools"
   ]
  },
  {
   "cell_type": "markdown",
   "metadata": {},
   "source": [
    "\n",
    "Import the packages that we need to build this game"
   ]
  },
  {
   "cell_type": "code",
   "execution_count": 51,
   "metadata": {},
   "outputs": [],
   "source": [
    "from ipywidgets import *\n",
    "import numpy as np"
   ]
  },
  {
   "cell_type": "markdown",
   "metadata": {},
   "source": [
    "# Create <font color=\"green\">Button Widgets</font>.\n",
    "\n",
    "These are what the use clicks to decide move"
   ]
  },
  {
   "cell_type": "code",
   "execution_count": 20,
   "metadata": {},
   "outputs": [
    {
     "data": {
      "application/vnd.jupyter.widget-view+json": {
       "model_id": "a74bf4d9283944f8b215b0fca99d7342",
       "version_major": 2,
       "version_minor": 0
      },
      "text/plain": [
       "HBox(children=(Button(description='0', style=ButtonStyle()), Button(description='1', style=ButtonStyle())))"
      ]
     },
     "metadata": {},
     "output_type": "display_data"
    }
   ],
   "source": [
    "btn_zero  = Button( description='0')\n",
    "btn_one = Button( description='1') \n",
    "btns = HBox([ btn_zero, btn_one ])\n",
    "btns"
   ]
  },
  {
   "cell_type": "markdown",
   "metadata": {},
   "source": [
    "Next we assign these <font color=\"green\">button widgets</font> each a <font color=\"blue\">python function</font> which runs when the user clicks the button. We create a *dummy function* called <font color=\"blue\">update_game</font> which we will write later."
   ]
  },
  {
   "cell_type": "code",
   "execution_count": 21,
   "metadata": {},
   "outputs": [],
   "source": [
    "def click_zero(b):\n",
    "    update_game(0)\n",
    "btn_zero.on_click( click_zero )"
   ]
  },
  {
   "cell_type": "code",
   "execution_count": 22,
   "metadata": {},
   "outputs": [],
   "source": [
    "def click_one(b):\n",
    "    update_game(1)\n",
    "btn_one.on_click( click_one )"
   ]
  },
  {
   "cell_type": "markdown",
   "metadata": {},
   "source": [
    "# Create <font color=\"green\">scoreboard widget</font>\n",
    "\n",
    "We use 2 <font color=\"green\">progress bar widgets</font> to show a **scoreboard**"
   ]
  },
  {
   "cell_type": "code",
   "execution_count": 24,
   "metadata": {},
   "outputs": [
    {
     "data": {
      "application/vnd.jupyter.widget-view+json": {
       "model_id": "57eb31e80cdd4f1581706bcebf8255da",
       "version_major": 2,
       "version_minor": 0
      },
      "text/plain": [
       "VBox(children=(IntProgress(value=0, bar_style='success', description='You:', max=50), IntProgress(value=0, bar…"
      ]
     },
     "metadata": {},
     "output_type": "display_data"
    }
   ],
   "source": [
    "usr_score = IntProgress( value=0,min=0, max=50, description='You:', bar_style='success')\n",
    "bot_score = IntProgress( value=0,min=0, max=50, description='Bot:', bar_style='danger')\n",
    "scoreboard = VBox([ usr_score, bot_score ])\n",
    "scoreboard"
   ]
  },
  {
   "cell_type": "markdown",
   "metadata": {},
   "source": [
    "# Create <font color=\"green\">Game Over Widget</font>\n",
    "\n",
    "At the end of the game, depending on if you win or loose, we print either *\"You Win!\" or \"You Loose!\"*. This is done using the `final_msg` html widget."
   ]
  },
  {
   "cell_type": "code",
   "execution_count": 26,
   "metadata": {},
   "outputs": [
    {
     "data": {
      "application/vnd.jupyter.widget-view+json": {
       "model_id": "565cb35a43804081bce663906b55d168",
       "version_major": 2,
       "version_minor": 0
      },
      "text/plain": [
       "HTML(value=\"<h1 style='color:green' > You Win!</h1>\")"
      ]
     },
     "metadata": {},
     "output_type": "display_data"
    }
   ],
   "source": [
    "final_msg = HTML(\"<h1 style='color:green' > You Win!</h1>\")\n",
    "final_msg"
   ]
  },
  {
   "cell_type": "markdown",
   "metadata": {},
   "source": [
    "# Create <font color=\"orchid\">game_box</font>\n",
    "\n",
    "We now put all of the widgets the form **MindReader** into a box called  <font color=\"orchid\">game_box</font>"
   ]
  },
  {
   "cell_type": "code",
   "execution_count": 27,
   "metadata": {},
   "outputs": [
    {
     "data": {
      "application/vnd.jupyter.widget-view+json": {
       "model_id": "b4278e9ffd424c3889d6c67e577cde63",
       "version_major": 2,
       "version_minor": 0
      },
      "text/plain": [
       "VBox(children=(HBox(children=(VBox(children=(IntProgress(value=0, bar_style='success', description='You:', max…"
      ]
     },
     "metadata": {},
     "output_type": "display_data"
    }
   ],
   "source": [
    "game_box = VBox([      HBox([ scoreboard, final_msg ]),\n",
    "                       btns      \n",
    "               ])\n",
    "game_box"
   ]
  },
  {
   "cell_type": "code",
   "execution_count": 49,
   "metadata": {},
   "outputs": [],
   "source": [
    "final_msg.layout.visibility = \"hidden\""
   ]
  },
  {
   "cell_type": "markdown",
   "metadata": {},
   "source": [
    "# Function: <font color=\"blue\">update_game</font>"
   ]
  },
  {
   "cell_type": "markdown",
   "metadata": {},
   "source": [
    "The MindReader will tries to guess your move by looking at your previous moves. We create a useful <font color=\"blue\">python variable</font> called `usr_history` that records all the user's previous moves. \n",
    "* We do this using a <font color=\"blue\">python datatype</font> called a **list**, which can store lots of number under one name\n",
    "* Inside the function, <font color=\"blue\">update_game</font>, lets add the `usr_choice` to the list `usr_history`\n"
   ]
  },
  {
   "cell_type": "code",
   "execution_count": 29,
   "metadata": {},
   "outputs": [],
   "source": [
    "usr_history = []"
   ]
  },
  {
   "cell_type": "code",
   "execution_count": 31,
   "metadata": {},
   "outputs": [],
   "source": [
    "usr_history.append(1)"
   ]
  },
  {
   "cell_type": "code",
   "execution_count": 33,
   "metadata": {},
   "outputs": [],
   "source": [
    "usr_history.append(0)"
   ]
  },
  {
   "cell_type": "code",
   "execution_count": 34,
   "metadata": {},
   "outputs": [
    {
     "data": {
      "text/plain": [
       "[1, 0]"
      ]
     },
     "execution_count": 34,
     "metadata": {},
     "output_type": "execute_result"
    }
   ],
   "source": [
    "usr_history"
   ]
  },
  {
   "cell_type": "markdown",
   "metadata": {},
   "source": [
    " Now we write the function that updates the game after each move you choice. This does the following things:\n",
    "1. The <font color=\"red\">bot</font> guesses your number using your `usr_history`\n",
    "2. Add's 1 to to the <font color=\"red\">bot's score</font> if it guesses your move, and if it's wrong adds **1** to <font color=\"green\">your score</font>\n",
    "3. Stops the game if someone wins.\n"
   ]
  },
  {
   "cell_type": "code",
   "execution_count": 50,
   "metadata": {},
   "outputs": [],
   "source": [
    "def update_game( usr_choice ):\n",
    "    prob = sum( usr_history ) / len(usr_history)\n",
    "    comp_choice = np.random.binomial(1, prob  , 1)[0]\n",
    "    usr_history.append( usr_choice )\n",
    "\n",
    "    if comp_choice == usr_choice:\n",
    "        bot_score.value += 1\n",
    "    else:\n",
    "        usr_score.value += 1\n",
    "\n",
    "    if usr_score.value == 50 or bot_score.value == 50 :\n",
    "        if bot_score.value == 50:\n",
    "            final_msg.value= \"<h1 style='color:red' > You Loose!</h1>\"\n",
    "        final_msg.layout.visibility = \"visible\"\n",
    "        btn_zero.disabled = True\n",
    "        btn_one.disabled = True"
   ]
  },
  {
   "cell_type": "markdown",
   "metadata": {},
   "source": [
    "# Play\n",
    "\n",
    "In order to make the **MindReader** game appear inside another `.ipynb` file we must use the <font color=\"blue\">display function</font>"
   ]
  },
  {
   "cell_type": "code",
   "execution_count": 52,
   "metadata": {},
   "outputs": [
    {
     "data": {
      "application/vnd.jupyter.widget-view+json": {
       "model_id": "b4278e9ffd424c3889d6c67e577cde63",
       "version_major": 2,
       "version_minor": 0
      },
      "text/plain": [
       "VBox(children=(HBox(children=(VBox(children=(IntProgress(value=5, bar_style='success', description='You:', max…"
      ]
     },
     "metadata": {},
     "output_type": "display_data"
    }
   ],
   "source": [
    "display( game_box )"
   ]
  },
  {
   "cell_type": "code",
   "execution_count": null,
   "metadata": {},
   "outputs": [],
   "source": []
  }
 ],
 "metadata": {
  "hide_input": false,
  "kernelspec": {
   "display_name": "Python 3",
   "language": "python",
   "name": "python3"
  },
  "language_info": {
   "codemirror_mode": {
    "name": "ipython",
    "version": 3
   },
   "file_extension": ".py",
   "mimetype": "text/x-python",
   "name": "python",
   "nbconvert_exporter": "python",
   "pygments_lexer": "ipython3",
   "version": "3.6.6"
  },
  "toc": {
   "base_numbering": 1,
   "nav_menu": {},
   "number_sections": true,
   "sideBar": true,
   "skip_h1_title": false,
   "title_cell": "Table of Contents",
   "title_sidebar": "Contents",
   "toc_cell": false,
   "toc_position": {},
   "toc_section_display": true,
   "toc_window_display": false
  },
  "varInspector": {
   "cols": {
    "lenName": 16,
    "lenType": 16,
    "lenVar": 40
   },
   "kernels_config": {
    "python": {
     "delete_cmd_postfix": "",
     "delete_cmd_prefix": "del ",
     "library": "var_list.py",
     "varRefreshCmd": "print(var_dic_list())"
    },
    "r": {
     "delete_cmd_postfix": ") ",
     "delete_cmd_prefix": "rm(",
     "library": "var_list.r",
     "varRefreshCmd": "cat(var_dic_list()) "
    }
   },
   "types_to_exclude": [
    "module",
    "function",
    "builtin_function_or_method",
    "instance",
    "_Feature"
   ],
   "window_display": false
  }
 },
 "nbformat": 4,
 "nbformat_minor": 2
}
